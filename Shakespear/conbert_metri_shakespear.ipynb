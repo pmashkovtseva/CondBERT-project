{
  "nbformat": 4,
  "nbformat_minor": 0,
  "metadata": {
    "colab": {
      "provenance": []
    },
    "kernelspec": {
      "name": "python3",
      "display_name": "Python 3"
    },
    "language_info": {
      "name": "python"
    }
  },
  "cells": [
    {
      "cell_type": "code",
      "execution_count": 1,
      "metadata": {
        "id": "7IsAlPa7Ua5l",
        "colab": {
          "base_uri": "https://localhost:8080/"
        },
        "outputId": "cc5cb888-42cf-4d1a-db13-46f7eabfb39f"
      },
      "outputs": [
        {
          "output_type": "stream",
          "name": "stdout",
          "text": [
            "fatal: destination path 'detox' already exists and is not an empty directory.\n"
          ]
        }
      ],
      "source": [
        "!git clone https://github.com/s-nlp/detox"
      ]
    },
    {
      "cell_type": "code",
      "source": [
        "! pip install -r detox/requirements.txt -q"
      ],
      "metadata": {
        "id": "EV76CZPFYXCQ",
        "colab": {
          "base_uri": "https://localhost:8080/"
        },
        "outputId": "a4747732-42b5-44b1-80a7-497c82f0b425"
      },
      "execution_count": 2,
      "outputs": [
        {
          "output_type": "stream",
          "name": "stdout",
          "text": [
            "\u001b[31mERROR: pip's dependency resolver does not currently take into account all the packages that are installed. This behaviour is the source of the following dependency conflicts.\n",
            "markdown 3.4.1 requires importlib-metadata>=4.4; python_version < \"3.10\", but you have importlib-metadata 3.10.1 which is incompatible.\n",
            "gym 0.25.2 requires importlib-metadata>=4.8.0; python_version < \"3.10\", but you have importlib-metadata 3.10.1 which is incompatible.\u001b[0m\u001b[31m\n",
            "\u001b[0m\u001b[33mWARNING: Running pip as the 'root' user can result in broken permissions and conflicting behaviour with the system package manager. It is recommended to use a virtual environment instead: https://pip.pypa.io/warnings/venv\u001b[0m\u001b[33m\n",
            "\u001b[0m"
          ]
        }
      ]
    },
    {
      "cell_type": "code",
      "source": [
        "!pip install fairseq"
      ],
      "metadata": {
        "id": "hB2uDDvgFkHI"
      },
      "execution_count": null,
      "outputs": []
    },
    {
      "cell_type": "code",
      "source": [
        "!pip install fairseq==0.10.0"
      ],
      "metadata": {
        "id": "tJjy6isKVfcV"
      },
      "execution_count": null,
      "outputs": []
    },
    {
      "cell_type": "code",
      "source": [
        "drive.mount('/content/drive')"
      ],
      "metadata": {
        "id": "4yOOLTQDZRVm",
        "colab": {
          "base_uri": "https://localhost:8080/"
        },
        "outputId": "ec6c8369-83cf-4ab1-b4d3-86db54eba865"
      },
      "execution_count": 4,
      "outputs": [
        {
          "output_type": "stream",
          "name": "stdout",
          "text": [
            "Drive already mounted at /content/drive; to attempt to forcibly remount, call drive.mount(\"/content/drive\", force_remount=True).\n"
          ]
        }
      ]
    },
    {
      "cell_type": "code",
      "source": [
        "!chmod u+x detox/emnlp2021/prepare.sh"
      ],
      "metadata": {
        "id": "-XwDWEuClJ6j"
      },
      "execution_count": 5,
      "outputs": []
    },
    {
      "cell_type": "code",
      "source": [
        "!detox/emnlp2021/prepare.sh"
      ],
      "metadata": {
        "id": "j3dlmw4FlOBY"
      },
      "execution_count": null,
      "outputs": []
    },
    {
      "cell_type": "markdown",
      "source": [
        "## Style accuracy"
      ],
      "metadata": {
        "id": "fPbdBSuGBIN9"
      }
    },
    {
      "cell_type": "code",
      "source": [
        "!python '/content/detox/emnlp2021/metric/metric.py' --inputs 'test1000.txt' \\\n",
        "--preds 'model_outputs1.txt' --classifier_path '/content/drive/MyDrive/checkpoint-8286' \\\n",
        "--cola_classifier_path 'models/cola/'"
      ],
      "metadata": {
        "colab": {
          "base_uri": "https://localhost:8080/"
        },
        "id": "q5GYagX7KGa9",
        "outputId": "d992f716-94e8-4606-b97f-363dda400282"
      },
      "execution_count": 5,
      "outputs": [
        {
          "output_type": "stream",
          "name": "stdout",
          "text": [
            "2023-03-24 16:01:47.604133: I tensorflow/core/platform/cpu_feature_guard.cc:193] This TensorFlow binary is optimized with oneAPI Deep Neural Network Library (oneDNN) to use the following CPU instructions in performance-critical operations:  AVX2 FMA\n",
            "To enable them in other operations, rebuild TensorFlow with the appropriate compiler flags.\n",
            "2023-03-24 16:01:49.514301: W tensorflow/compiler/xla/stream_executor/platform/default/dso_loader.cc:64] Could not load dynamic library 'libnvinfer.so.7'; dlerror: libnvinfer.so.7: cannot open shared object file: No such file or directory; LD_LIBRARY_PATH: /usr/local/nvidia/lib:/usr/local/nvidia/lib64\n",
            "2023-03-24 16:01:49.514710: W tensorflow/compiler/xla/stream_executor/platform/default/dso_loader.cc:64] Could not load dynamic library 'libnvinfer_plugin.so.7'; dlerror: libnvinfer_plugin.so.7: cannot open shared object file: No such file or directory; LD_LIBRARY_PATH: /usr/local/nvidia/lib:/usr/local/nvidia/lib64\n",
            "2023-03-24 16:01:49.514740: W tensorflow/compiler/tf2tensorrt/utils/py_utils.cc:38] TF-TRT Warning: Cannot dlopen some TensorRT libraries. If you would like to use Nvidia GPU with TensorRT, please make sure the missing libraries mentioned above are installed properly.\n",
            "/usr/local/lib/python3.9/dist-packages/torch/cuda/__init__.py:497: UserWarning: Can't initialize NVML\n",
            "  warnings.warn(\"Can't initialize NVML\")\n",
            "Calculating style of predictions\n",
            "100% 32/32 [03:22<00:00,  6.32s/it]\n",
            "Calculating BLEU similarity\n",
            "/usr/local/lib/python3.9/dist-packages/nltk/translate/bleu_score.py:552: UserWarning: \n",
            "The hypothesis contains 0 counts of 4-gram overlaps.\n",
            "Therefore the BLEU score evaluates to 0, independently of\n",
            "how many N-gram overlaps of lower order it contains.\n",
            "Consider using lower n-gram order or use SmoothingFunction()\n",
            "  warnings.warn(_msg)\n",
            "/usr/local/lib/python3.9/dist-packages/nltk/translate/bleu_score.py:552: UserWarning: \n",
            "The hypothesis contains 0 counts of 3-gram overlaps.\n",
            "Therefore the BLEU score evaluates to 0, independently of\n",
            "how many N-gram overlaps of lower order it contains.\n",
            "Consider using lower n-gram order or use SmoothingFunction()\n",
            "  warnings.warn(_msg)\n",
            "Calculating similarity by Wieting subword-embedding SIM model\n",
            "100% 32/32 [00:00<00:00, 47.83it/s]\n",
            "Calculating CoLA acceptability stats\n",
            "2023-03-24 16:05:27 | INFO | fairseq.file_utils | loading archive file models/cola/\n",
            "2023-03-24 16:05:27 | INFO | fairseq.file_utils | loading archive file models/cola/cola-bin\n",
            "2023-03-24 16:05:49 | INFO | fairseq.tasks.sentence_prediction | [input] dictionary: 50265 types\n",
            "2023-03-24 16:05:49 | INFO | fairseq.tasks.sentence_prediction | [label] dictionary: 9 types\n",
            "2023-03-24 16:06:02 | INFO | fairseq.file_utils | https://dl.fbaipublicfiles.com/fairseq/gpt2_bpe/encoder.json not found in cache, downloading to /tmp/tmpjvqpcz6o\n",
            "1042301B [00:00, 13895173.43B/s]\n",
            "2023-03-24 16:06:03 | INFO | fairseq.file_utils | copying /tmp/tmpjvqpcz6o to cache at /root/.cache/torch/pytorch_fairseq/e2aab4d600e7568c2d88fc7732130ccc815ea84ec63906cb0913c7a3a4906a2e.0f323dfaed92d080380e63f0291d0f31adfa8c61a62cbcb3cb8114f061be27f7\n",
            "2023-03-24 16:06:03 | INFO | fairseq.file_utils | creating metadata file for /root/.cache/torch/pytorch_fairseq/e2aab4d600e7568c2d88fc7732130ccc815ea84ec63906cb0913c7a3a4906a2e.0f323dfaed92d080380e63f0291d0f31adfa8c61a62cbcb3cb8114f061be27f7\n",
            "2023-03-24 16:06:03 | INFO | fairseq.file_utils | removing temp file /tmp/tmpjvqpcz6o\n",
            "2023-03-24 16:06:03 | INFO | fairseq.file_utils | https://dl.fbaipublicfiles.com/fairseq/gpt2_bpe/vocab.bpe not found in cache, downloading to /tmp/tmph9s5enqv\n",
            "456318B [00:00, 7455723.50B/s]\n",
            "2023-03-24 16:06:03 | INFO | fairseq.file_utils | copying /tmp/tmph9s5enqv to cache at /root/.cache/torch/pytorch_fairseq/b04a6d337c09f464fe8f0df1d3524db88a597007d63f05d97e437f65840cdba5.939bed25cbdab15712bac084ee713d6c78e221c5156c68cb0076b03f5170600f\n",
            "2023-03-24 16:06:03 | INFO | fairseq.file_utils | creating metadata file for /root/.cache/torch/pytorch_fairseq/b04a6d337c09f464fe8f0df1d3524db88a597007d63f05d97e437f65840cdba5.939bed25cbdab15712bac084ee713d6c78e221c5156c68cb0076b03f5170600f\n",
            "2023-03-24 16:06:03 | INFO | fairseq.file_utils | removing temp file /tmp/tmph9s5enqv\n",
            "32it [11:36, 21.78s/it]\n",
            "| Model | ACC | SIM | FL | J | BLEU |\n",
            "\n",
            "| ----- | --- | --- | -- | - | ---- |\n",
            "\n",
            "model_outputs1.txt|0.8210|0.5588|0.1470|0.0827|0.6824|\n",
            "\n"
          ]
        }
      ]
    },
    {
      "cell_type": "code",
      "source": [
        "!python '/content/detox/emnlp2021/metric/metric.py' --inputs 'test1000.txt' \\\n",
        "--preds 'model_outputs2.txt' --classifier_path '/content/drive/MyDrive/checkpoint-8286' \\\n",
        "--cola_classifier_path 'models/cola/'"
      ],
      "metadata": {
        "colab": {
          "base_uri": "https://localhost:8080/"
        },
        "id": "013ae_LQadrP",
        "outputId": "d3743c97-c56f-4095-dff2-14c5eb9e2e1d"
      },
      "execution_count": 6,
      "outputs": [
        {
          "output_type": "stream",
          "name": "stdout",
          "text": [
            "2023-03-24 16:18:36.086263: I tensorflow/core/platform/cpu_feature_guard.cc:193] This TensorFlow binary is optimized with oneAPI Deep Neural Network Library (oneDNN) to use the following CPU instructions in performance-critical operations:  AVX2 FMA\n",
            "To enable them in other operations, rebuild TensorFlow with the appropriate compiler flags.\n",
            "2023-03-24 16:18:38.696876: W tensorflow/compiler/xla/stream_executor/platform/default/dso_loader.cc:64] Could not load dynamic library 'libnvinfer.so.7'; dlerror: libnvinfer.so.7: cannot open shared object file: No such file or directory; LD_LIBRARY_PATH: /usr/local/nvidia/lib:/usr/local/nvidia/lib64\n",
            "2023-03-24 16:18:38.697134: W tensorflow/compiler/xla/stream_executor/platform/default/dso_loader.cc:64] Could not load dynamic library 'libnvinfer_plugin.so.7'; dlerror: libnvinfer_plugin.so.7: cannot open shared object file: No such file or directory; LD_LIBRARY_PATH: /usr/local/nvidia/lib:/usr/local/nvidia/lib64\n",
            "2023-03-24 16:18:38.697165: W tensorflow/compiler/tf2tensorrt/utils/py_utils.cc:38] TF-TRT Warning: Cannot dlopen some TensorRT libraries. If you would like to use Nvidia GPU with TensorRT, please make sure the missing libraries mentioned above are installed properly.\n",
            "/usr/local/lib/python3.9/dist-packages/torch/cuda/__init__.py:497: UserWarning: Can't initialize NVML\n",
            "  warnings.warn(\"Can't initialize NVML\")\n",
            "Calculating style of predictions\n",
            "100% 32/32 [03:33<00:00,  6.68s/it]\n",
            "Calculating BLEU similarity\n",
            "/usr/local/lib/python3.9/dist-packages/nltk/translate/bleu_score.py:552: UserWarning: \n",
            "The hypothesis contains 0 counts of 4-gram overlaps.\n",
            "Therefore the BLEU score evaluates to 0, independently of\n",
            "how many N-gram overlaps of lower order it contains.\n",
            "Consider using lower n-gram order or use SmoothingFunction()\n",
            "  warnings.warn(_msg)\n",
            "/usr/local/lib/python3.9/dist-packages/nltk/translate/bleu_score.py:552: UserWarning: \n",
            "The hypothesis contains 0 counts of 3-gram overlaps.\n",
            "Therefore the BLEU score evaluates to 0, independently of\n",
            "how many N-gram overlaps of lower order it contains.\n",
            "Consider using lower n-gram order or use SmoothingFunction()\n",
            "  warnings.warn(_msg)\n",
            "Calculating similarity by Wieting subword-embedding SIM model\n",
            "100% 32/32 [00:00<00:00, 77.08it/s]\n",
            "Calculating CoLA acceptability stats\n",
            "2023-03-24 16:22:26 | INFO | fairseq.file_utils | loading archive file models/cola/\n",
            "2023-03-24 16:22:26 | INFO | fairseq.file_utils | loading archive file models/cola/cola-bin\n",
            "2023-03-24 16:22:47 | INFO | fairseq.tasks.sentence_prediction | [input] dictionary: 50265 types\n",
            "2023-03-24 16:22:47 | INFO | fairseq.tasks.sentence_prediction | [label] dictionary: 9 types\n",
            "32it [12:13, 22.91s/it]\n",
            "| Model | ACC | SIM | FL | J | BLEU |\n",
            "\n",
            "| ----- | --- | --- | -- | - | ---- |\n",
            "\n",
            "model_outputs2.txt|0.8160|0.8425|0.5130|0.3624|0.7651|\n",
            "\n"
          ]
        }
      ]
    }
  ]
}