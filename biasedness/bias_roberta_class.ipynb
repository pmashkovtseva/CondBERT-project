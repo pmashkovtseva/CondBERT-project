{
  "metadata": {
    "colab": {
      "provenance": []
    },
    "kernelspec": {
      "name": "python3",
      "display_name": "Python 3",
      "language": "python"
    },
    "language_info": {
      "name": "python",
      "version": "3.7.12",
      "mimetype": "text/x-python",
      "codemirror_mode": {
        "name": "ipython",
        "version": 3
      },
      "pygments_lexer": "ipython3",
      "nbconvert_exporter": "python",
      "file_extension": ".py"
    },
    "widgets": {
      "application/vnd.jupyter.widget-state+json": {
        "397c8f96bbd04e8facd0eab68d858d25": {
          "model_module": "@jupyter-widgets/controls",
          "model_name": "HBoxModel",
          "model_module_version": "1.5.0",
          "state": {
            "_dom_classes": [],
            "_model_module": "@jupyter-widgets/controls",
            "_model_module_version": "1.5.0",
            "_model_name": "HBoxModel",
            "_view_count": null,
            "_view_module": "@jupyter-widgets/controls",
            "_view_module_version": "1.5.0",
            "_view_name": "HBoxView",
            "box_style": "",
            "children": [
              "IPY_MODEL_da096b8125d740639956856925697f0c",
              "IPY_MODEL_5668138962db4dc1a3d21810802a8a2e",
              "IPY_MODEL_fa0d8c2924264e51a188d5456fe298b1"
            ],
            "layout": "IPY_MODEL_07e3a4ad9e874270bce0b2ea838e4a0f"
          }
        },
        "da096b8125d740639956856925697f0c": {
          "model_module": "@jupyter-widgets/controls",
          "model_name": "HTMLModel",
          "model_module_version": "1.5.0",
          "state": {
            "_dom_classes": [],
            "_model_module": "@jupyter-widgets/controls",
            "_model_module_version": "1.5.0",
            "_model_name": "HTMLModel",
            "_view_count": null,
            "_view_module": "@jupyter-widgets/controls",
            "_view_module_version": "1.5.0",
            "_view_name": "HTMLView",
            "description": "",
            "description_tooltip": null,
            "layout": "IPY_MODEL_576c807833c3427a96e304e044946b06",
            "placeholder": "​",
            "style": "IPY_MODEL_2ad4937419bc4f0ab3fa89280e01f3a2",
            "value": "Downloading builder script: 100%"
          }
        },
        "5668138962db4dc1a3d21810802a8a2e": {
          "model_module": "@jupyter-widgets/controls",
          "model_name": "FloatProgressModel",
          "model_module_version": "1.5.0",
          "state": {
            "_dom_classes": [],
            "_model_module": "@jupyter-widgets/controls",
            "_model_module_version": "1.5.0",
            "_model_name": "FloatProgressModel",
            "_view_count": null,
            "_view_module": "@jupyter-widgets/controls",
            "_view_module_version": "1.5.0",
            "_view_name": "ProgressView",
            "bar_style": "success",
            "description": "",
            "description_tooltip": null,
            "layout": "IPY_MODEL_784363a8c0244aa29c0b44ac04e47527",
            "max": 4203,
            "min": 0,
            "orientation": "horizontal",
            "style": "IPY_MODEL_df01ba76dc414eef880c20868b1da449",
            "value": 4203
          }
        },
        "fa0d8c2924264e51a188d5456fe298b1": {
          "model_module": "@jupyter-widgets/controls",
          "model_name": "HTMLModel",
          "model_module_version": "1.5.0",
          "state": {
            "_dom_classes": [],
            "_model_module": "@jupyter-widgets/controls",
            "_model_module_version": "1.5.0",
            "_model_name": "HTMLModel",
            "_view_count": null,
            "_view_module": "@jupyter-widgets/controls",
            "_view_module_version": "1.5.0",
            "_view_name": "HTMLView",
            "description": "",
            "description_tooltip": null,
            "layout": "IPY_MODEL_fb9807939bd9429d83e3248146e48fe4",
            "placeholder": "​",
            "style": "IPY_MODEL_1e7da16e68914cdea9dc159eeae004ba",
            "value": " 4.20k/4.20k [00:00&lt;00:00, 155kB/s]"
          }
        },
        "07e3a4ad9e874270bce0b2ea838e4a0f": {
          "model_module": "@jupyter-widgets/base",
          "model_name": "LayoutModel",
          "model_module_version": "1.2.0",
          "state": {
            "_model_module": "@jupyter-widgets/base",
            "_model_module_version": "1.2.0",
            "_model_name": "LayoutModel",
            "_view_count": null,
            "_view_module": "@jupyter-widgets/base",
            "_view_module_version": "1.2.0",
            "_view_name": "LayoutView",
            "align_content": null,
            "align_items": null,
            "align_self": null,
            "border": null,
            "bottom": null,
            "display": null,
            "flex": null,
            "flex_flow": null,
            "grid_area": null,
            "grid_auto_columns": null,
            "grid_auto_flow": null,
            "grid_auto_rows": null,
            "grid_column": null,
            "grid_gap": null,
            "grid_row": null,
            "grid_template_areas": null,
            "grid_template_columns": null,
            "grid_template_rows": null,
            "height": null,
            "justify_content": null,
            "justify_items": null,
            "left": null,
            "margin": null,
            "max_height": null,
            "max_width": null,
            "min_height": null,
            "min_width": null,
            "object_fit": null,
            "object_position": null,
            "order": null,
            "overflow": null,
            "overflow_x": null,
            "overflow_y": null,
            "padding": null,
            "right": null,
            "top": null,
            "visibility": null,
            "width": null
          }
        },
        "576c807833c3427a96e304e044946b06": {
          "model_module": "@jupyter-widgets/base",
          "model_name": "LayoutModel",
          "model_module_version": "1.2.0",
          "state": {
            "_model_module": "@jupyter-widgets/base",
            "_model_module_version": "1.2.0",
            "_model_name": "LayoutModel",
            "_view_count": null,
            "_view_module": "@jupyter-widgets/base",
            "_view_module_version": "1.2.0",
            "_view_name": "LayoutView",
            "align_content": null,
            "align_items": null,
            "align_self": null,
            "border": null,
            "bottom": null,
            "display": null,
            "flex": null,
            "flex_flow": null,
            "grid_area": null,
            "grid_auto_columns": null,
            "grid_auto_flow": null,
            "grid_auto_rows": null,
            "grid_column": null,
            "grid_gap": null,
            "grid_row": null,
            "grid_template_areas": null,
            "grid_template_columns": null,
            "grid_template_rows": null,
            "height": null,
            "justify_content": null,
            "justify_items": null,
            "left": null,
            "margin": null,
            "max_height": null,
            "max_width": null,
            "min_height": null,
            "min_width": null,
            "object_fit": null,
            "object_position": null,
            "order": null,
            "overflow": null,
            "overflow_x": null,
            "overflow_y": null,
            "padding": null,
            "right": null,
            "top": null,
            "visibility": null,
            "width": null
          }
        },
        "2ad4937419bc4f0ab3fa89280e01f3a2": {
          "model_module": "@jupyter-widgets/controls",
          "model_name": "DescriptionStyleModel",
          "model_module_version": "1.5.0",
          "state": {
            "_model_module": "@jupyter-widgets/controls",
            "_model_module_version": "1.5.0",
            "_model_name": "DescriptionStyleModel",
            "_view_count": null,
            "_view_module": "@jupyter-widgets/base",
            "_view_module_version": "1.2.0",
            "_view_name": "StyleView",
            "description_width": ""
          }
        },
        "784363a8c0244aa29c0b44ac04e47527": {
          "model_module": "@jupyter-widgets/base",
          "model_name": "LayoutModel",
          "model_module_version": "1.2.0",
          "state": {
            "_model_module": "@jupyter-widgets/base",
            "_model_module_version": "1.2.0",
            "_model_name": "LayoutModel",
            "_view_count": null,
            "_view_module": "@jupyter-widgets/base",
            "_view_module_version": "1.2.0",
            "_view_name": "LayoutView",
            "align_content": null,
            "align_items": null,
            "align_self": null,
            "border": null,
            "bottom": null,
            "display": null,
            "flex": null,
            "flex_flow": null,
            "grid_area": null,
            "grid_auto_columns": null,
            "grid_auto_flow": null,
            "grid_auto_rows": null,
            "grid_column": null,
            "grid_gap": null,
            "grid_row": null,
            "grid_template_areas": null,
            "grid_template_columns": null,
            "grid_template_rows": null,
            "height": null,
            "justify_content": null,
            "justify_items": null,
            "left": null,
            "margin": null,
            "max_height": null,
            "max_width": null,
            "min_height": null,
            "min_width": null,
            "object_fit": null,
            "object_position": null,
            "order": null,
            "overflow": null,
            "overflow_x": null,
            "overflow_y": null,
            "padding": null,
            "right": null,
            "top": null,
            "visibility": null,
            "width": null
          }
        },
        "df01ba76dc414eef880c20868b1da449": {
          "model_module": "@jupyter-widgets/controls",
          "model_name": "ProgressStyleModel",
          "model_module_version": "1.5.0",
          "state": {
            "_model_module": "@jupyter-widgets/controls",
            "_model_module_version": "1.5.0",
            "_model_name": "ProgressStyleModel",
            "_view_count": null,
            "_view_module": "@jupyter-widgets/base",
            "_view_module_version": "1.2.0",
            "_view_name": "StyleView",
            "bar_color": null,
            "description_width": ""
          }
        },
        "fb9807939bd9429d83e3248146e48fe4": {
          "model_module": "@jupyter-widgets/base",
          "model_name": "LayoutModel",
          "model_module_version": "1.2.0",
          "state": {
            "_model_module": "@jupyter-widgets/base",
            "_model_module_version": "1.2.0",
            "_model_name": "LayoutModel",
            "_view_count": null,
            "_view_module": "@jupyter-widgets/base",
            "_view_module_version": "1.2.0",
            "_view_name": "LayoutView",
            "align_content": null,
            "align_items": null,
            "align_self": null,
            "border": null,
            "bottom": null,
            "display": null,
            "flex": null,
            "flex_flow": null,
            "grid_area": null,
            "grid_auto_columns": null,
            "grid_auto_flow": null,
            "grid_auto_rows": null,
            "grid_column": null,
            "grid_gap": null,
            "grid_row": null,
            "grid_template_areas": null,
            "grid_template_columns": null,
            "grid_template_rows": null,
            "height": null,
            "justify_content": null,
            "justify_items": null,
            "left": null,
            "margin": null,
            "max_height": null,
            "max_width": null,
            "min_height": null,
            "min_width": null,
            "object_fit": null,
            "object_position": null,
            "order": null,
            "overflow": null,
            "overflow_x": null,
            "overflow_y": null,
            "padding": null,
            "right": null,
            "top": null,
            "visibility": null,
            "width": null
          }
        },
        "1e7da16e68914cdea9dc159eeae004ba": {
          "model_module": "@jupyter-widgets/controls",
          "model_name": "DescriptionStyleModel",
          "model_module_version": "1.5.0",
          "state": {
            "_model_module": "@jupyter-widgets/controls",
            "_model_module_version": "1.5.0",
            "_model_name": "DescriptionStyleModel",
            "_view_count": null,
            "_view_module": "@jupyter-widgets/base",
            "_view_module_version": "1.2.0",
            "_view_name": "StyleView",
            "description_width": ""
          }
        }
      }
    },
    "accelerator": "GPU",
    "gpuClass": "standard"
  },
  "nbformat_minor": 0,
  "nbformat": 4,
  "cells": [
    {
      "cell_type": "code",
      "source": [
        "!pip install evaluate datasets transformers"
      ],
      "metadata": {
        "colab": {
          "base_uri": "https://localhost:8080/"
        },
        "id": "zO_tHAvc5LNE",
        "outputId": "41ede8ce-be60-4e79-bc1d-90a9b392c3d5",
        "execution": {
          "iopub.status.busy": "2023-03-26T04:10:46.308533Z",
          "iopub.execute_input": "2023-03-26T04:10:46.309195Z",
          "iopub.status.idle": "2023-03-26T04:10:56.209963Z",
          "shell.execute_reply.started": "2023-03-26T04:10:46.309137Z",
          "shell.execute_reply": "2023-03-26T04:10:56.208431Z"
        },
        "trusted": true
      },
      "execution_count": 3,
      "outputs": [
        {
          "output_type": "stream",
          "name": "stdout",
          "text": [
            "Looking in indexes: https://pypi.org/simple, https://us-python.pkg.dev/colab-wheels/public/simple/\n",
            "Collecting evaluate\n",
            "  Using cached evaluate-0.4.0-py3-none-any.whl (81 kB)\n",
            "Collecting datasets\n",
            "  Using cached datasets-2.10.1-py3-none-any.whl (469 kB)\n",
            "Collecting transformers\n",
            "  Using cached transformers-4.27.3-py3-none-any.whl (6.8 MB)\n",
            "Requirement already satisfied: packaging in /usr/local/lib/python3.9/dist-packages (from evaluate) (23.0)\n",
            "Collecting dill\n",
            "  Using cached dill-0.3.6-py3-none-any.whl (110 kB)\n",
            "Collecting multiprocess\n",
            "  Using cached multiprocess-0.70.14-py39-none-any.whl (132 kB)\n",
            "Requirement already satisfied: numpy>=1.17 in /usr/local/lib/python3.9/dist-packages (from evaluate) (1.22.4)\n",
            "Collecting xxhash\n",
            "  Using cached xxhash-3.2.0-cp39-cp39-manylinux_2_17_x86_64.manylinux2014_x86_64.whl (212 kB)\n",
            "Collecting responses<0.19\n",
            "  Using cached responses-0.18.0-py3-none-any.whl (38 kB)\n",
            "Requirement already satisfied: requests>=2.19.0 in /usr/local/lib/python3.9/dist-packages (from evaluate) (2.27.1)\n",
            "Requirement already satisfied: pandas in /usr/local/lib/python3.9/dist-packages (from evaluate) (1.4.4)\n",
            "Requirement already satisfied: fsspec[http]>=2021.05.0 in /usr/local/lib/python3.9/dist-packages (from evaluate) (2023.3.0)\n",
            "Requirement already satisfied: tqdm>=4.62.1 in /usr/local/lib/python3.9/dist-packages (from evaluate) (4.65.0)\n",
            "Collecting huggingface-hub>=0.7.0\n",
            "  Using cached huggingface_hub-0.13.3-py3-none-any.whl (199 kB)\n",
            "Requirement already satisfied: pyyaml>=5.1 in /usr/local/lib/python3.9/dist-packages (from datasets) (6.0)\n",
            "Collecting aiohttp\n",
            "  Using cached aiohttp-3.8.4-cp39-cp39-manylinux_2_17_x86_64.manylinux2014_x86_64.whl (1.0 MB)\n",
            "Requirement already satisfied: pyarrow>=6.0.0 in /usr/local/lib/python3.9/dist-packages (from datasets) (9.0.0)\n",
            "Collecting tokenizers!=0.11.3,<0.14,>=0.11.1\n",
            "  Using cached tokenizers-0.13.2-cp39-cp39-manylinux_2_17_x86_64.manylinux2014_x86_64.whl (7.6 MB)\n",
            "Requirement already satisfied: filelock in /usr/local/lib/python3.9/dist-packages (from transformers) (3.10.2)\n",
            "Requirement already satisfied: regex!=2019.12.17 in /usr/local/lib/python3.9/dist-packages (from transformers) (2022.10.31)\n",
            "Requirement already satisfied: attrs>=17.3.0 in /usr/local/lib/python3.9/dist-packages (from aiohttp->datasets) (22.2.0)\n",
            "Requirement already satisfied: charset-normalizer<4.0,>=2.0 in /usr/local/lib/python3.9/dist-packages (from aiohttp->datasets) (2.0.12)\n",
            "Collecting frozenlist>=1.1.1\n",
            "  Using cached frozenlist-1.3.3-cp39-cp39-manylinux_2_5_x86_64.manylinux1_x86_64.manylinux_2_17_x86_64.manylinux2014_x86_64.whl (158 kB)\n",
            "Collecting aiosignal>=1.1.2\n",
            "  Using cached aiosignal-1.3.1-py3-none-any.whl (7.6 kB)\n",
            "Collecting yarl<2.0,>=1.0\n",
            "  Using cached yarl-1.8.2-cp39-cp39-manylinux_2_17_x86_64.manylinux2014_x86_64.whl (264 kB)\n",
            "Collecting async-timeout<5.0,>=4.0.0a3\n",
            "  Using cached async_timeout-4.0.2-py3-none-any.whl (5.8 kB)\n",
            "Collecting multidict<7.0,>=4.5\n",
            "  Using cached multidict-6.0.4-cp39-cp39-manylinux_2_17_x86_64.manylinux2014_x86_64.whl (114 kB)\n",
            "Requirement already satisfied: typing-extensions>=3.7.4.3 in /usr/local/lib/python3.9/dist-packages (from huggingface-hub>=0.7.0->evaluate) (4.5.0)\n",
            "Requirement already satisfied: urllib3<1.27,>=1.21.1 in /usr/local/lib/python3.9/dist-packages (from requests>=2.19.0->evaluate) (1.26.15)\n",
            "Requirement already satisfied: certifi>=2017.4.17 in /usr/local/lib/python3.9/dist-packages (from requests>=2.19.0->evaluate) (2022.12.7)\n",
            "Requirement already satisfied: idna<4,>=2.5 in /usr/local/lib/python3.9/dist-packages (from requests>=2.19.0->evaluate) (3.4)\n",
            "Requirement already satisfied: pytz>=2020.1 in /usr/local/lib/python3.9/dist-packages (from pandas->evaluate) (2022.7.1)\n",
            "Requirement already satisfied: python-dateutil>=2.8.1 in /usr/local/lib/python3.9/dist-packages (from pandas->evaluate) (2.8.2)\n",
            "Requirement already satisfied: six>=1.5 in /usr/local/lib/python3.9/dist-packages (from python-dateutil>=2.8.1->pandas->evaluate) (1.16.0)\n",
            "Installing collected packages: tokenizers, xxhash, multidict, frozenlist, dill, async-timeout, yarl, responses, multiprocess, huggingface-hub, aiosignal, transformers, aiohttp, datasets, evaluate\n",
            "Successfully installed aiohttp-3.8.4 aiosignal-1.3.1 async-timeout-4.0.2 datasets-2.10.1 dill-0.3.6 evaluate-0.4.0 frozenlist-1.3.3 huggingface-hub-0.13.3 multidict-6.0.4 multiprocess-0.70.14 responses-0.18.0 tokenizers-0.13.2 transformers-4.27.3 xxhash-3.2.0 yarl-1.8.2\n"
          ]
        }
      ]
    },
    {
      "cell_type": "code",
      "source": [
        "import torch\n",
        "import numpy as np\n",
        "import pickle\n",
        "from tqdm.auto import tqdm, trange\n",
        "import evaluate\n",
        "from datasets import Dataset"
      ],
      "metadata": {
        "id": "nIKkcfre5LQx",
        "execution": {
          "iopub.status.busy": "2023-03-26T04:10:56.213769Z",
          "iopub.execute_input": "2023-03-26T04:10:56.214208Z",
          "iopub.status.idle": "2023-03-26T04:11:08.008546Z",
          "shell.execute_reply.started": "2023-03-26T04:10:56.214159Z",
          "shell.execute_reply": "2023-03-26T04:11:08.007486Z"
        },
        "trusted": true
      },
      "execution_count": 4,
      "outputs": []
    },
    {
      "cell_type": "code",
      "source": [
        "from transformers import (AutoModelForSequenceClassification, \n",
        "                          AutoTokenizer, \n",
        "                          RobertaTokenizer, \n",
        "                          RobertaForSequenceClassification, \n",
        "                          TrainingArguments, \n",
        "                          Trainer)"
      ],
      "metadata": {
        "id": "X5-Y1NTRxZth",
        "execution": {
          "iopub.status.busy": "2023-03-26T04:11:08.009974Z",
          "iopub.execute_input": "2023-03-26T04:11:08.010786Z",
          "iopub.status.idle": "2023-03-26T04:11:08.588138Z",
          "shell.execute_reply.started": "2023-03-26T04:11:08.010747Z",
          "shell.execute_reply": "2023-03-26T04:11:08.586978Z"
        },
        "trusted": true
      },
      "execution_count": 5,
      "outputs": []
    },
    {
      "cell_type": "markdown",
      "source": [],
      "metadata": {
        "id": "0cG4s63hc_0r"
      }
    },
    {
      "cell_type": "code",
      "source": [
        "import pandas as pd"
      ],
      "metadata": {
        "id": "hFEYYzkV6_BM",
        "execution": {
          "iopub.status.busy": "2023-03-26T04:11:08.591139Z",
          "iopub.execute_input": "2023-03-26T04:11:08.591425Z",
          "iopub.status.idle": "2023-03-26T04:11:08.597882Z",
          "shell.execute_reply.started": "2023-03-26T04:11:08.591394Z",
          "shell.execute_reply": "2023-03-26T04:11:08.596862Z"
        },
        "trusted": true
      },
      "execution_count": 6,
      "outputs": []
    },
    {
      "cell_type": "code",
      "source": [
        "from google.colab import drive\n",
        "drive.mount('/content/drive')"
      ],
      "metadata": {
        "colab": {
          "base_uri": "https://localhost:8080/"
        },
        "id": "r17K4XfN8BAe",
        "outputId": "2c90f61a-c6a8-43f4-9aa9-52c9d9fd472c"
      },
      "execution_count": 7,
      "outputs": [
        {
          "output_type": "stream",
          "name": "stdout",
          "text": [
            "Mounted at /content/drive\n"
          ]
        }
      ]
    },
    {
      "cell_type": "code",
      "source": [
        "!unzip '/content/drive/MyDrive/bias_data.zip'"
      ],
      "metadata": {
        "colab": {
          "base_uri": "https://localhost:8080/"
        },
        "id": "z1eXQdGxdD-d",
        "outputId": "99c13f89-207a-41e0-98e0-d5fef849dd51"
      },
      "execution_count": 8,
      "outputs": [
        {
          "output_type": "stream",
          "name": "stdout",
          "text": [
            "Archive:  /content/drive/MyDrive/bias_data.zip\n",
            "   creating: bias_data/\n",
            "   creating: bias_data/real_world_samples/\n",
            "  inflating: bias_data/real_world_samples/news_left  \n",
            "   creating: __MACOSX/\n",
            "   creating: __MACOSX/bias_data/\n",
            "   creating: __MACOSX/bias_data/real_world_samples/\n",
            "  inflating: __MACOSX/bias_data/real_world_samples/._news_left  \n",
            "  inflating: bias_data/real_world_samples/ibc_left  \n",
            "  inflating: __MACOSX/bias_data/real_world_samples/._ibc_left  \n",
            "  inflating: bias_data/real_world_samples/ibc_right  \n",
            "  inflating: __MACOSX/bias_data/real_world_samples/._ibc_right  \n",
            "  inflating: bias_data/real_world_samples/speeches  \n",
            "  inflating: __MACOSX/bias_data/real_world_samples/._speeches  \n",
            "  inflating: bias_data/real_world_samples/news_right  \n",
            "  inflating: __MACOSX/bias_data/real_world_samples/._news_right  \n",
            "  inflating: bias_data/real_world_samples/news_sensationalist_dramatic  \n",
            "  inflating: __MACOSX/bias_data/real_world_samples/._news_sensationalist_dramatic  \n",
            "  inflating: __MACOSX/bias_data/._real_world_samples  \n",
            "  inflating: bias_data/README        \n",
            "  inflating: __MACOSX/bias_data/._README  \n",
            "   creating: bias_data/WNC/\n",
            "  inflating: bias_data/WNC/biased.word.dev  \n",
            "   creating: __MACOSX/bias_data/WNC/\n",
            "  inflating: __MACOSX/bias_data/WNC/._biased.word.dev  \n",
            "  inflating: bias_data/WNC/revision_topics.csv  \n",
            "  inflating: __MACOSX/bias_data/WNC/._revision_topics.csv  \n",
            "  inflating: bias_data/WNC/biased.word.test  \n",
            "  inflating: __MACOSX/bias_data/WNC/._biased.word.test  \n",
            "  inflating: bias_data/WNC/neutral   \n",
            "  inflating: bias_data/WNC/biased.word.train  \n",
            "  inflating: __MACOSX/bias_data/WNC/._biased.word.train  \n",
            "  inflating: bias_data/WNC/biased.full  \n",
            "  inflating: __MACOSX/bias_data/WNC/._biased.full  \n",
            "  inflating: __MACOSX/bias_data/._WNC  \n",
            "  inflating: bias_data/bert.vocab    \n",
            "  inflating: __MACOSX/bias_data/._bert.vocab  \n",
            "  inflating: __MACOSX/._bias_data    \n"
          ]
        }
      ]
    },
    {
      "cell_type": "code",
      "source": [
        "biased_corpus_path = '/content/bias_data/WNC/biased.full'"
      ],
      "metadata": {
        "id": "2T3RNgWFdD-e"
      },
      "execution_count": 9,
      "outputs": []
    },
    {
      "cell_type": "code",
      "source": [
        "# !unzip '/content/drive/MyDrive/bias_data.zip'"
      ],
      "metadata": {
        "id": "cAxtuFxX8BGf",
        "execution": {
          "iopub.status.busy": "2023-03-26T04:11:08.599557Z",
          "iopub.execute_input": "2023-03-26T04:11:08.600401Z",
          "iopub.status.idle": "2023-03-26T04:11:08.606401Z",
          "shell.execute_reply.started": "2023-03-26T04:11:08.600291Z",
          "shell.execute_reply": "2023-03-26T04:11:08.605382Z"
        },
        "trusted": true
      },
      "execution_count": null,
      "outputs": []
    },
    {
      "cell_type": "code",
      "source": [
        "model = RobertaForSequenceClassification.from_pretrained('roberta-base', num_labels = 2)\n",
        "tokenizer = RobertaTokenizer.from_pretrained('roberta-base', max_length = 128)"
      ],
      "metadata": {
        "colab": {
          "base_uri": "https://localhost:8080/"
        },
        "id": "ROGMm3z95u_E",
        "outputId": "aa06404c-a73d-4762-9e40-db138b86bb14",
        "execution": {
          "iopub.status.busy": "2023-03-26T04:11:08.608087Z",
          "iopub.execute_input": "2023-03-26T04:11:08.608796Z",
          "iopub.status.idle": "2023-03-26T04:11:14.351241Z",
          "shell.execute_reply.started": "2023-03-26T04:11:08.608756Z",
          "shell.execute_reply": "2023-03-26T04:11:14.350193Z"
        },
        "trusted": true
      },
      "execution_count": 20,
      "outputs": [
        {
          "output_type": "stream",
          "name": "stderr",
          "text": [
            "Some weights of the model checkpoint at roberta-base were not used when initializing RobertaForSequenceClassification: ['roberta.pooler.dense.bias', 'lm_head.dense.weight', 'lm_head.bias', 'roberta.pooler.dense.weight', 'lm_head.dense.bias', 'lm_head.layer_norm.weight', 'lm_head.decoder.weight', 'lm_head.layer_norm.bias']\n",
            "- This IS expected if you are initializing RobertaForSequenceClassification from the checkpoint of a model trained on another task or with another architecture (e.g. initializing a BertForSequenceClassification model from a BertForPreTraining model).\n",
            "- This IS NOT expected if you are initializing RobertaForSequenceClassification from the checkpoint of a model that you expect to be exactly identical (initializing a BertForSequenceClassification model from a BertForSequenceClassification model).\n",
            "Some weights of RobertaForSequenceClassification were not initialized from the model checkpoint at roberta-base and are newly initialized: ['classifier.out_proj.weight', 'classifier.dense.weight', 'classifier.dense.bias', 'classifier.out_proj.bias']\n",
            "You should probably TRAIN this model on a down-stream task to be able to use it for predictions and inference.\n"
          ]
        }
      ]
    },
    {
      "cell_type": "code",
      "source": [
        "from sklearn.model_selection import train_test_split"
      ],
      "metadata": {
        "id": "8L2GCrcG9rJ1",
        "execution": {
          "iopub.status.busy": "2023-03-26T04:11:14.353006Z",
          "iopub.execute_input": "2023-03-26T04:11:14.353420Z",
          "iopub.status.idle": "2023-03-26T04:11:14.372745Z",
          "shell.execute_reply.started": "2023-03-26T04:11:14.353382Z",
          "shell.execute_reply": "2023-03-26T04:11:14.371760Z"
        },
        "trusted": true
      },
      "execution_count": 11,
      "outputs": []
    },
    {
      "cell_type": "code",
      "source": [
        "# biased_corpus_path = '/kaggle/input/bias-data/bias_data/WNC/biased.full'\n",
        "# # norm_corpus_path = '/kaggle/input/bias-data/bias_data/WNC/neutral'"
      ],
      "metadata": {
        "id": "qvdcrOo28VEt",
        "execution": {
          "iopub.status.busy": "2023-03-26T04:11:14.374177Z",
          "iopub.execute_input": "2023-03-26T04:11:14.374825Z",
          "iopub.status.idle": "2023-03-26T04:11:14.379742Z",
          "shell.execute_reply.started": "2023-03-26T04:11:14.374787Z",
          "shell.execute_reply": "2023-03-26T04:11:14.378634Z"
        },
        "trusted": true
      },
      "execution_count": null,
      "outputs": []
    },
    {
      "cell_type": "code",
      "source": [
        "colnames = ['id','src_tok','tgt_tok','src_raw',\n",
        "            'tgt_raw','src_POS_tags','tgt_parse_tags']"
      ],
      "metadata": {
        "id": "85NqJ-0n5u5F",
        "execution": {
          "iopub.status.busy": "2023-03-26T04:11:14.381406Z",
          "iopub.execute_input": "2023-03-26T04:11:14.382055Z",
          "iopub.status.idle": "2023-03-26T04:11:14.389025Z",
          "shell.execute_reply.started": "2023-03-26T04:11:14.382015Z",
          "shell.execute_reply": "2023-03-26T04:11:14.387961Z"
        },
        "trusted": true
      },
      "execution_count": 12,
      "outputs": []
    },
    {
      "cell_type": "code",
      "source": [
        "df = pd.read_csv(biased_corpus_path, \n",
        "                        sep='\\t', on_bad_lines='skip', names=colnames)"
      ],
      "metadata": {
        "id": "KTQKfkkv8dN8",
        "execution": {
          "iopub.status.busy": "2023-03-26T04:11:14.394200Z",
          "iopub.execute_input": "2023-03-26T04:11:14.394479Z",
          "iopub.status.idle": "2023-03-26T04:11:19.381272Z",
          "shell.execute_reply.started": "2023-03-26T04:11:14.394455Z",
          "shell.execute_reply": "2023-03-26T04:11:19.379909Z"
        },
        "trusted": true
      },
      "execution_count": 13,
      "outputs": []
    },
    {
      "cell_type": "code",
      "source": [
        "bias = []\n",
        "for punkt in df['src_raw'][:100000]:\n",
        "    bias.append({'text':punkt, 'label':1})\n",
        "norm = []\n",
        "for punkt in df['tgt_raw'][:100000]:\n",
        "    norm.append({'text':punkt, 'label':0})"
      ],
      "metadata": {
        "execution": {
          "iopub.status.busy": "2023-03-26T04:11:19.382885Z",
          "iopub.execute_input": "2023-03-26T04:11:19.385931Z",
          "iopub.status.idle": "2023-03-26T04:11:19.519714Z",
          "shell.execute_reply.started": "2023-03-26T04:11:19.385896Z",
          "shell.execute_reply": "2023-03-26T04:11:19.518441Z"
        },
        "trusted": true,
        "id": "yyM0qBWoc_01"
      },
      "execution_count": 14,
      "outputs": []
    },
    {
      "cell_type": "code",
      "source": [
        "biased_df = pd.DataFrame(bias)\n",
        "norm_df = pd.DataFrame(norm)"
      ],
      "metadata": {
        "execution": {
          "iopub.status.busy": "2023-03-26T04:11:19.521333Z",
          "iopub.execute_input": "2023-03-26T04:11:19.521855Z",
          "iopub.status.idle": "2023-03-26T04:11:21.124793Z",
          "shell.execute_reply.started": "2023-03-26T04:11:19.521810Z",
          "shell.execute_reply": "2023-03-26T04:11:21.123658Z"
        },
        "trusted": true,
        "id": "L3oYHcMBc_04"
      },
      "execution_count": 15,
      "outputs": []
    },
    {
      "cell_type": "code",
      "source": [
        "data = pd.concat([biased_df, norm_df])"
      ],
      "metadata": {
        "id": "8Hni2PoNnexJ",
        "execution": {
          "iopub.status.busy": "2023-03-26T04:11:21.126125Z",
          "iopub.execute_input": "2023-03-26T04:11:21.126539Z",
          "iopub.status.idle": "2023-03-26T04:11:21.139243Z",
          "shell.execute_reply.started": "2023-03-26T04:11:21.126497Z",
          "shell.execute_reply": "2023-03-26T04:11:21.138183Z"
        },
        "trusted": true
      },
      "execution_count": 16,
      "outputs": []
    },
    {
      "cell_type": "code",
      "source": [
        "data"
      ],
      "metadata": {
        "colab": {
          "base_uri": "https://localhost:8080/",
          "height": 424
        },
        "id": "fNKvi09knezt",
        "outputId": "27e0b011-2852-4dfe-9499-0d5c3a5bdf1d",
        "execution": {
          "iopub.status.busy": "2023-03-26T04:11:21.142571Z",
          "iopub.execute_input": "2023-03-26T04:11:21.142943Z",
          "iopub.status.idle": "2023-03-26T04:11:21.161653Z",
          "shell.execute_reply.started": "2023-03-26T04:11:21.142913Z",
          "shell.execute_reply": "2023-03-26T04:11:21.160643Z"
        },
        "trusted": true
      },
      "execution_count": 17,
      "outputs": [
        {
          "output_type": "execute_result",
          "data": {
            "text/plain": [
              "                                                    text  label\n",
              "0      during the campaign, controversy erupted over ...      1\n",
              "1      nicaea was convoked by the emperor constantine...      1\n",
              "2      it was rather unfortunate that he vehemently o...      1\n",
              "3      dennis the menace is an american animated seri...      1\n",
              "4      today, on large farms, motorcycles, dogs or me...      1\n",
              "...                                                  ...    ...\n",
              "99995  the permanent exhibition shows the main struct...      0\n",
              "99996  sheyla tadeo (born sheyla osiris tadeo bringas...      0\n",
              "99997  constitutes \"child pornography\" remains debata...      0\n",
              "99998  primitive people held that gods were subject t...      0\n",
              "99999  the muslim parliament consists mainly of appoi...      0\n",
              "\n",
              "[200000 rows x 2 columns]"
            ],
            "text/html": [
              "\n",
              "  <div id=\"df-93aec1b2-38c5-4960-a253-903df6be6539\">\n",
              "    <div class=\"colab-df-container\">\n",
              "      <div>\n",
              "<style scoped>\n",
              "    .dataframe tbody tr th:only-of-type {\n",
              "        vertical-align: middle;\n",
              "    }\n",
              "\n",
              "    .dataframe tbody tr th {\n",
              "        vertical-align: top;\n",
              "    }\n",
              "\n",
              "    .dataframe thead th {\n",
              "        text-align: right;\n",
              "    }\n",
              "</style>\n",
              "<table border=\"1\" class=\"dataframe\">\n",
              "  <thead>\n",
              "    <tr style=\"text-align: right;\">\n",
              "      <th></th>\n",
              "      <th>text</th>\n",
              "      <th>label</th>\n",
              "    </tr>\n",
              "  </thead>\n",
              "  <tbody>\n",
              "    <tr>\n",
              "      <th>0</th>\n",
              "      <td>during the campaign, controversy erupted over ...</td>\n",
              "      <td>1</td>\n",
              "    </tr>\n",
              "    <tr>\n",
              "      <th>1</th>\n",
              "      <td>nicaea was convoked by the emperor constantine...</td>\n",
              "      <td>1</td>\n",
              "    </tr>\n",
              "    <tr>\n",
              "      <th>2</th>\n",
              "      <td>it was rather unfortunate that he vehemently o...</td>\n",
              "      <td>1</td>\n",
              "    </tr>\n",
              "    <tr>\n",
              "      <th>3</th>\n",
              "      <td>dennis the menace is an american animated seri...</td>\n",
              "      <td>1</td>\n",
              "    </tr>\n",
              "    <tr>\n",
              "      <th>4</th>\n",
              "      <td>today, on large farms, motorcycles, dogs or me...</td>\n",
              "      <td>1</td>\n",
              "    </tr>\n",
              "    <tr>\n",
              "      <th>...</th>\n",
              "      <td>...</td>\n",
              "      <td>...</td>\n",
              "    </tr>\n",
              "    <tr>\n",
              "      <th>99995</th>\n",
              "      <td>the permanent exhibition shows the main struct...</td>\n",
              "      <td>0</td>\n",
              "    </tr>\n",
              "    <tr>\n",
              "      <th>99996</th>\n",
              "      <td>sheyla tadeo (born sheyla osiris tadeo bringas...</td>\n",
              "      <td>0</td>\n",
              "    </tr>\n",
              "    <tr>\n",
              "      <th>99997</th>\n",
              "      <td>constitutes \"child pornography\" remains debata...</td>\n",
              "      <td>0</td>\n",
              "    </tr>\n",
              "    <tr>\n",
              "      <th>99998</th>\n",
              "      <td>primitive people held that gods were subject t...</td>\n",
              "      <td>0</td>\n",
              "    </tr>\n",
              "    <tr>\n",
              "      <th>99999</th>\n",
              "      <td>the muslim parliament consists mainly of appoi...</td>\n",
              "      <td>0</td>\n",
              "    </tr>\n",
              "  </tbody>\n",
              "</table>\n",
              "<p>200000 rows × 2 columns</p>\n",
              "</div>\n",
              "      <button class=\"colab-df-convert\" onclick=\"convertToInteractive('df-93aec1b2-38c5-4960-a253-903df6be6539')\"\n",
              "              title=\"Convert this dataframe to an interactive table.\"\n",
              "              style=\"display:none;\">\n",
              "        \n",
              "  <svg xmlns=\"http://www.w3.org/2000/svg\" height=\"24px\"viewBox=\"0 0 24 24\"\n",
              "       width=\"24px\">\n",
              "    <path d=\"M0 0h24v24H0V0z\" fill=\"none\"/>\n",
              "    <path d=\"M18.56 5.44l.94 2.06.94-2.06 2.06-.94-2.06-.94-.94-2.06-.94 2.06-2.06.94zm-11 1L8.5 8.5l.94-2.06 2.06-.94-2.06-.94L8.5 2.5l-.94 2.06-2.06.94zm10 10l.94 2.06.94-2.06 2.06-.94-2.06-.94-.94-2.06-.94 2.06-2.06.94z\"/><path d=\"M17.41 7.96l-1.37-1.37c-.4-.4-.92-.59-1.43-.59-.52 0-1.04.2-1.43.59L10.3 9.45l-7.72 7.72c-.78.78-.78 2.05 0 2.83L4 21.41c.39.39.9.59 1.41.59.51 0 1.02-.2 1.41-.59l7.78-7.78 2.81-2.81c.8-.78.8-2.07 0-2.86zM5.41 20L4 18.59l7.72-7.72 1.47 1.35L5.41 20z\"/>\n",
              "  </svg>\n",
              "      </button>\n",
              "      \n",
              "  <style>\n",
              "    .colab-df-container {\n",
              "      display:flex;\n",
              "      flex-wrap:wrap;\n",
              "      gap: 12px;\n",
              "    }\n",
              "\n",
              "    .colab-df-convert {\n",
              "      background-color: #E8F0FE;\n",
              "      border: none;\n",
              "      border-radius: 50%;\n",
              "      cursor: pointer;\n",
              "      display: none;\n",
              "      fill: #1967D2;\n",
              "      height: 32px;\n",
              "      padding: 0 0 0 0;\n",
              "      width: 32px;\n",
              "    }\n",
              "\n",
              "    .colab-df-convert:hover {\n",
              "      background-color: #E2EBFA;\n",
              "      box-shadow: 0px 1px 2px rgba(60, 64, 67, 0.3), 0px 1px 3px 1px rgba(60, 64, 67, 0.15);\n",
              "      fill: #174EA6;\n",
              "    }\n",
              "\n",
              "    [theme=dark] .colab-df-convert {\n",
              "      background-color: #3B4455;\n",
              "      fill: #D2E3FC;\n",
              "    }\n",
              "\n",
              "    [theme=dark] .colab-df-convert:hover {\n",
              "      background-color: #434B5C;\n",
              "      box-shadow: 0px 1px 3px 1px rgba(0, 0, 0, 0.15);\n",
              "      filter: drop-shadow(0px 1px 2px rgba(0, 0, 0, 0.3));\n",
              "      fill: #FFFFFF;\n",
              "    }\n",
              "  </style>\n",
              "\n",
              "      <script>\n",
              "        const buttonEl =\n",
              "          document.querySelector('#df-93aec1b2-38c5-4960-a253-903df6be6539 button.colab-df-convert');\n",
              "        buttonEl.style.display =\n",
              "          google.colab.kernel.accessAllowed ? 'block' : 'none';\n",
              "\n",
              "        async function convertToInteractive(key) {\n",
              "          const element = document.querySelector('#df-93aec1b2-38c5-4960-a253-903df6be6539');\n",
              "          const dataTable =\n",
              "            await google.colab.kernel.invokeFunction('convertToInteractive',\n",
              "                                                     [key], {});\n",
              "          if (!dataTable) return;\n",
              "\n",
              "          const docLinkHtml = 'Like what you see? Visit the ' +\n",
              "            '<a target=\"_blank\" href=https://colab.research.google.com/notebooks/data_table.ipynb>data table notebook</a>'\n",
              "            + ' to learn more about interactive tables.';\n",
              "          element.innerHTML = '';\n",
              "          dataTable['output_type'] = 'display_data';\n",
              "          await google.colab.output.renderOutput(dataTable, element);\n",
              "          const docLink = document.createElement('div');\n",
              "          docLink.innerHTML = docLinkHtml;\n",
              "          element.appendChild(docLink);\n",
              "        }\n",
              "      </script>\n",
              "    </div>\n",
              "  </div>\n",
              "  "
            ]
          },
          "metadata": {},
          "execution_count": 17
        }
      ]
    },
    {
      "cell_type": "code",
      "source": [
        "X_train, X_test, y_train, y_test = train_test_split(data['text'].tolist(), data['label'].tolist(), test_size=0.3, random_state=42, shuffle=True)"
      ],
      "metadata": {
        "id": "UtUK0uldne2Q",
        "execution": {
          "iopub.status.busy": "2023-03-26T04:11:21.163211Z",
          "iopub.execute_input": "2023-03-26T04:11:21.163587Z",
          "iopub.status.idle": "2023-03-26T04:11:21.279562Z",
          "shell.execute_reply.started": "2023-03-26T04:11:21.163537Z",
          "shell.execute_reply": "2023-03-26T04:11:21.278452Z"
        },
        "trusted": true
      },
      "execution_count": 18,
      "outputs": []
    },
    {
      "cell_type": "code",
      "source": [
        "def prep(text, tokenizer=tokenizer):\n",
        "    return tokenizer(text, padding = 'max_length', max_length = 128, truncation=True, return_tensors='pt')"
      ],
      "metadata": {
        "id": "rJc8U-VopAsK",
        "execution": {
          "iopub.status.busy": "2023-03-26T04:11:23.973882Z",
          "iopub.execute_input": "2023-03-26T04:11:23.974364Z",
          "iopub.status.idle": "2023-03-26T04:11:23.979935Z",
          "shell.execute_reply.started": "2023-03-26T04:11:23.974325Z",
          "shell.execute_reply": "2023-03-26T04:11:23.978762Z"
        },
        "trusted": true
      },
      "execution_count": 21,
      "outputs": []
    },
    {
      "cell_type": "code",
      "source": [
        "X_train = prep(X_train)\n",
        "X_test = prep(X_test)"
      ],
      "metadata": {
        "id": "oJqNI8Eko8og",
        "execution": {
          "iopub.status.busy": "2023-03-26T04:11:23.981483Z",
          "iopub.execute_input": "2023-03-26T04:11:23.982258Z",
          "iopub.status.idle": "2023-03-26T04:11:55.873641Z",
          "shell.execute_reply.started": "2023-03-26T04:11:23.982219Z",
          "shell.execute_reply": "2023-03-26T04:11:55.872559Z"
        },
        "trusted": true
      },
      "execution_count": 22,
      "outputs": []
    },
    {
      "cell_type": "code",
      "source": [
        "class TextDataset(torch.utils.data.Dataset):\n",
        "    def __init__(self, encodings, labels):\n",
        "        self.encodings = encodings\n",
        "        self.labels = torch.tensor(labels)\n",
        "\n",
        "    def __getitem__(self, idx):\n",
        "        item = {key: torch.tensor(val[idx]) for key, val in self.encodings.items()}\n",
        "        item['labels'] = torch.tensor(self.labels[idx])\n",
        "        return item\n",
        "\n",
        "    def __len__(self):\n",
        "        return len(self.labels)\n",
        "\n",
        "train_dataset = TextDataset(X_train, y_train)\n",
        "val_dataset = TextDataset(X_test, y_test)"
      ],
      "metadata": {
        "id": "oKOMPcd0pKCB",
        "execution": {
          "iopub.status.busy": "2023-03-26T04:11:55.875425Z",
          "iopub.execute_input": "2023-03-26T04:11:55.875875Z",
          "iopub.status.idle": "2023-03-26T04:11:55.894485Z",
          "shell.execute_reply.started": "2023-03-26T04:11:55.875830Z",
          "shell.execute_reply": "2023-03-26T04:11:55.893362Z"
        },
        "trusted": true
      },
      "execution_count": 23,
      "outputs": []
    },
    {
      "cell_type": "code",
      "source": [
        "metric = evaluate.load(\"accuracy\")"
      ],
      "metadata": {
        "id": "7GF6BFOOne7F",
        "execution": {
          "iopub.status.busy": "2023-03-26T04:11:55.895950Z",
          "iopub.execute_input": "2023-03-26T04:11:55.897057Z",
          "iopub.status.idle": "2023-03-26T04:11:56.288926Z",
          "shell.execute_reply.started": "2023-03-26T04:11:55.897011Z",
          "shell.execute_reply": "2023-03-26T04:11:56.287955Z"
        },
        "trusted": true,
        "colab": {
          "base_uri": "https://localhost:8080/",
          "height": 49,
          "referenced_widgets": [
            "397c8f96bbd04e8facd0eab68d858d25",
            "da096b8125d740639956856925697f0c",
            "5668138962db4dc1a3d21810802a8a2e",
            "fa0d8c2924264e51a188d5456fe298b1",
            "07e3a4ad9e874270bce0b2ea838e4a0f",
            "576c807833c3427a96e304e044946b06",
            "2ad4937419bc4f0ab3fa89280e01f3a2",
            "784363a8c0244aa29c0b44ac04e47527",
            "df01ba76dc414eef880c20868b1da449",
            "fb9807939bd9429d83e3248146e48fe4",
            "1e7da16e68914cdea9dc159eeae004ba"
          ]
        },
        "outputId": "b08cf6cb-3a6f-42f1-ab92-cb8bc4979db1"
      },
      "execution_count": 24,
      "outputs": [
        {
          "output_type": "display_data",
          "data": {
            "text/plain": [
              "Downloading builder script:   0%|          | 0.00/4.20k [00:00<?, ?B/s]"
            ],
            "application/vnd.jupyter.widget-view+json": {
              "version_major": 2,
              "version_minor": 0,
              "model_id": "397c8f96bbd04e8facd0eab68d858d25"
            }
          },
          "metadata": {}
        }
      ]
    },
    {
      "cell_type": "code",
      "source": [
        "def compute_metrics(eval_pred):\n",
        "    logits, labels = eval_pred\n",
        "    predictions = np.argmax(logits, axis=-1)\n",
        "    return metric.compute(predictions=predictions, references=[np.argmax(np.asarray(i)) for i in labels])"
      ],
      "metadata": {
        "id": "bW9cKiCdne9t",
        "execution": {
          "iopub.status.busy": "2023-03-26T04:11:56.290368Z",
          "iopub.execute_input": "2023-03-26T04:11:56.291413Z",
          "iopub.status.idle": "2023-03-26T04:11:56.304845Z",
          "shell.execute_reply.started": "2023-03-26T04:11:56.291372Z",
          "shell.execute_reply": "2023-03-26T04:11:56.301791Z"
        },
        "trusted": true
      },
      "execution_count": 25,
      "outputs": []
    },
    {
      "cell_type": "code",
      "source": [
        "training_args = TrainingArguments(output_dir='./results',\n",
        "                                    save_total_limit=2,\n",
        "                                    evaluation_strategy='epoch',\n",
        "                                    save_strategy = 'epoch',\n",
        "                                    num_train_epochs=2,\n",
        "                                    per_device_train_batch_size=16,\n",
        "                                    per_device_eval_batch_size=32,\n",
        "                                    warmup_steps=10,\n",
        "                                    load_best_model_at_end=True\n",
        "                                 )\n",
        "\n",
        "trainer = Trainer(\n",
        "    model=model,\n",
        "    args=training_args,\n",
        "    train_dataset=train_dataset,\n",
        "    eval_dataset=val_dataset,\n",
        "    compute_metrics=compute_metrics,\n",
        ")"
      ],
      "metadata": {
        "id": "MvzdClEWnfAN",
        "execution": {
          "iopub.status.busy": "2023-03-26T04:13:40.191903Z",
          "iopub.execute_input": "2023-03-26T04:13:40.193081Z",
          "iopub.status.idle": "2023-03-26T04:13:40.209902Z",
          "shell.execute_reply.started": "2023-03-26T04:13:40.193037Z",
          "shell.execute_reply": "2023-03-26T04:13:40.208845Z"
        },
        "trusted": true
      },
      "execution_count": 26,
      "outputs": []
    },
    {
      "cell_type": "code",
      "source": [
        "trainer.train()"
      ],
      "metadata": {
        "colab": {
          "base_uri": "https://localhost:8080/",
          "height": 367
        },
        "id": "1f4AO-ggnfCQ",
        "outputId": "058f6b70-7e3d-4a6f-95ef-6aefc79bc8a2",
        "execution": {
          "iopub.status.busy": "2023-03-26T04:13:42.153304Z",
          "iopub.execute_input": "2023-03-26T04:13:42.153964Z",
          "iopub.status.idle": "2023-03-26T05:29:51.330824Z",
          "shell.execute_reply.started": "2023-03-26T04:13:42.153920Z",
          "shell.execute_reply": "2023-03-26T05:29:51.329660Z"
        },
        "trusted": true
      },
      "execution_count": 27,
      "outputs": [
        {
          "output_type": "stream",
          "name": "stderr",
          "text": [
            "/usr/local/lib/python3.9/dist-packages/transformers/optimization.py:391: FutureWarning: This implementation of AdamW is deprecated and will be removed in a future version. Use the PyTorch implementation torch.optim.AdamW instead, or set `no_deprecation_warning=True` to disable this warning\n",
            "  warnings.warn(\n",
            "<ipython-input-23-379ee82dd1af>:7: UserWarning: To copy construct from a tensor, it is recommended to use sourceTensor.clone().detach() or sourceTensor.clone().detach().requires_grad_(True), rather than torch.tensor(sourceTensor).\n",
            "  item = {key: torch.tensor(val[idx]) for key, val in self.encodings.items()}\n",
            "<ipython-input-23-379ee82dd1af>:8: UserWarning: To copy construct from a tensor, it is recommended to use sourceTensor.clone().detach() or sourceTensor.clone().detach().requires_grad_(True), rather than torch.tensor(sourceTensor).\n",
            "  item['labels'] = torch.tensor(self.labels[idx])\n"
          ]
        },
        {
          "output_type": "display_data",
          "data": {
            "text/plain": [
              "<IPython.core.display.HTML object>"
            ],
            "text/html": [
              "\n",
              "    <div>\n",
              "      \n",
              "      <progress value='17500' max='17500' style='width:300px; height:20px; vertical-align: middle;'></progress>\n",
              "      [17500/17500 1:59:26, Epoch 2/2]\n",
              "    </div>\n",
              "    <table border=\"1\" class=\"dataframe\">\n",
              "  <thead>\n",
              " <tr style=\"text-align: left;\">\n",
              "      <th>Epoch</th>\n",
              "      <th>Training Loss</th>\n",
              "      <th>Validation Loss</th>\n",
              "      <th>Accuracy</th>\n",
              "    </tr>\n",
              "  </thead>\n",
              "  <tbody>\n",
              "    <tr>\n",
              "      <td>1</td>\n",
              "      <td>0.694000</td>\n",
              "      <td>0.693743</td>\n",
              "      <td>1.000000</td>\n",
              "    </tr>\n",
              "    <tr>\n",
              "      <td>2</td>\n",
              "      <td>0.693700</td>\n",
              "      <td>0.699115</td>\n",
              "      <td>1.000000</td>\n",
              "    </tr>\n",
              "  </tbody>\n",
              "</table><p>"
            ]
          },
          "metadata": {}
        },
        {
          "output_type": "stream",
          "name": "stderr",
          "text": [
            "<ipython-input-23-379ee82dd1af>:7: UserWarning: To copy construct from a tensor, it is recommended to use sourceTensor.clone().detach() or sourceTensor.clone().detach().requires_grad_(True), rather than torch.tensor(sourceTensor).\n",
            "  item = {key: torch.tensor(val[idx]) for key, val in self.encodings.items()}\n",
            "<ipython-input-23-379ee82dd1af>:8: UserWarning: To copy construct from a tensor, it is recommended to use sourceTensor.clone().detach() or sourceTensor.clone().detach().requires_grad_(True), rather than torch.tensor(sourceTensor).\n",
            "  item['labels'] = torch.tensor(self.labels[idx])\n"
          ]
        },
        {
          "output_type": "execute_result",
          "data": {
            "text/plain": [
              "TrainOutput(global_step=17500, training_loss=0.6946696341378348, metrics={'train_runtime': 7172.0918, 'train_samples_per_second': 39.04, 'train_steps_per_second': 2.44, 'total_flos': 1.84177738752e+16, 'train_loss': 0.6946696341378348, 'epoch': 2.0})"
            ]
          },
          "metadata": {},
          "execution_count": 27
        }
      ]
    },
    {
      "cell_type": "code",
      "source": [
        "tokenizer.save_pretrained('roberta_bias_clf')\n",
        "trainer.model.save_pretrained('roberta_bias_clf')"
      ],
      "metadata": {
        "id": "uu4QhE5lnfEj",
        "execution": {
          "iopub.status.busy": "2023-03-26T05:29:51.333323Z",
          "iopub.execute_input": "2023-03-26T05:29:51.333778Z",
          "iopub.status.idle": "2023-03-26T05:29:52.984737Z",
          "shell.execute_reply.started": "2023-03-26T05:29:51.333736Z",
          "shell.execute_reply": "2023-03-26T05:29:52.983618Z"
        },
        "trusted": true
      },
      "execution_count": 28,
      "outputs": []
    }
  ]
}